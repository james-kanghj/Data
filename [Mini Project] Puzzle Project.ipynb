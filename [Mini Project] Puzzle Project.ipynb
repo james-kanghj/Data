{
 "cells": [
  {
   "cell_type": "markdown",
   "metadata": {},
   "source": [
    "## 미니 프로젝트\n",
    " - 숫자 퍼즐 게임 완성하기\n",
    " - 아래와 같이 숫자 퍼즐을 만들고 숫자를 이동시켜 순서대로 맞추는 게임\n",
    " ![퍼즐이미지](https://i.stack.imgur.com/0B14h.png)\n",
    " - [이미지 출처](https://math.stackexchange.com/questions/635188/what-is-the-parity-of-permutation-in-the-15-puzzle)"
   ]
  },
  {
   "cell_type": "code",
   "execution_count": 1,
   "metadata": {},
   "outputs": [],
   "source": [
    "import random"
   ]
  },
  {
   "cell_type": "markdown",
   "metadata": {},
   "source": [
    "### 게임 로직 구현하기\n",
    " 1. 퍼즐 생성하기\n",
    " 2. 퍼즐 랜덤하게 섞기\n",
    " 3. 퍼즐 출력\n",
    " 4. 사용자 입력(움직일 숫자 입력 받기)\n",
    " 5. 퍼즐 완성 확인하기\n",
    "   - 완성? 완료 메시지와 함께 종료\n",
    "   - 미완성? 3번으로 이동"
   ]
  },
  {
   "cell_type": "markdown",
   "metadata": {},
   "source": [
    "#### 퍼즐 생성하기\n",
    " - 2차원 리스트 형태로 생성\n",
    " - 퍼즐의 크기(size)를 파라미터로 받아, 동적으로 size*size의 리스트로 생성\n",
    " - 퍼즐이 생성되면 1부터 차례대로 행방향으로 숫자를 나열\n",
    "   - 사이즈가 3인 경우의 생성 예\n",
    "   -  [[1, 2, 3],\n",
    "      [4, 5, 6],\n",
    "      [7, 8, 9]]\n",
    " - 퍼즐의 가장 마지막 아이템(마지막 행의 마지막 열 아이템)은 '' 빈문자열로 처리\n",
    "   - 이유는? 숫자퍼즐의 목표는 빈공간을 이용해 각 이동하고자 하는 숫자를 빈공간으로 움직여 숫자들을 순서대로 다시 맞추는 것이 목적이므로, 빈공간을 표현하기 위한 방법으로 빈문자열을 사용"
   ]
  },
  {
   "cell_type": "markdown",
   "metadata": {},
   "source": [
    "* pure python 버젼"
   ]
  },
  {
   "cell_type": "code",
   "execution_count": 2,
   "metadata": {},
   "outputs": [],
   "source": [
    "def initiate_puzzle(size):\n",
    "    '''\n",
    "    파라미터\n",
    "     size: 퍼즐의 크기\n",
    "    리턴\n",
    "     생성된 퍼즐 리스트\n",
    "    '''\n",
    "    puzzle = []\n",
    "    for i in range(size):\n",
    "        row = []\n",
    "        for j in range(size):\n",
    "            row.append(i*size + j+1)\n",
    "        puzzle.append(row)\n",
    "\n",
    "    puzzle[-1][-1] = ''\n",
    "    return puzzle"
   ]
  },
  {
   "cell_type": "markdown",
   "metadata": {},
   "source": [
    "* numpy 버젼"
   ]
  },
  {
   "cell_type": "code",
   "execution_count": 3,
   "metadata": {},
   "outputs": [],
   "source": [
    "import numpy as np\n",
    "def initiate_puzzle(size):\n",
    "    '''\n",
    "    파라미터\n",
    "     size: 퍼즐의 크기\n",
    "    리턴\n",
    "     생성된 퍼즐 리스트\n",
    "    '''\n",
    "    puzzle = np.arange(1, size*size+1).reshape(size, size)\n",
    "    puzzle = puzzle.tolist() \n",
    "    puzzle[-1][-1] = ''\n",
    "    return puzzle"
   ]
  },
  {
   "cell_type": "code",
   "execution_count": 4,
   "metadata": {},
   "outputs": [],
   "source": [
    "puzzle = initiate_puzzle(4)"
   ]
  },
  {
   "cell_type": "markdown",
   "metadata": {},
   "source": [
    "#### 퍼즐 출력하기\n",
    " - 생성된 퍼즐(puzzle)을 파라미터로 받아 화면에 출력\n",
    " - 이때, 퍼즐은 2차원 형태이므로 2중 loop을 이용"
   ]
  },
  {
   "cell_type": "code",
   "execution_count": 5,
   "metadata": {},
   "outputs": [],
   "source": [
    "def show_puzzle(puzzle):\n",
    "    '''\n",
    "    파라미터\n",
    "     puzzle: 퍼즐 \n",
    "    리턴\n",
    "     None\n",
    "    '''\n",
    "    for i in range(len(puzzle)):\n",
    "        for j in range(len(puzzle[0])):\n",
    "            print('{:3}'.format(puzzle[i][j]), sep=' ', end='')\n",
    "        print()"
   ]
  },
  {
   "cell_type": "code",
   "execution_count": 6,
   "metadata": {},
   "outputs": [
    {
     "name": "stdout",
     "output_type": "stream",
     "text": [
      "  1  2  3  4\n",
      "  5  6  7  8\n",
      "  9 10 11 12\n",
      " 13 14 15   \n"
     ]
    }
   ],
   "source": [
    "show_puzzle(puzzle)"
   ]
  },
  {
   "cell_type": "markdown",
   "metadata": {},
   "source": [
    "#### 퍼즐 섞기(shuffling)\n",
    " - 생성할때부터 랜덤하게 숫자를 배열하지 않고, 완성된 상태에서 퍼즐을 섞어야 함\n",
    "   - 이유? 랜덤하게 배열하는 경우, 퍼즐이 완성되지 못하는 경우의 수가 수학적으로 존재하기 때문\n",
    "   - 퍼즐을 완성시킬 수 없는 예\n",
    "   - [[1, 2, 3, 4], [5, 6, 7, 8], [9, 10, 11, 12], [13, 15, 14, '']]"
   ]
  },
  {
   "cell_type": "code",
   "execution_count": 7,
   "metadata": {},
   "outputs": [],
   "source": [
    "def get_index(puzzle, n):\n",
    "    '''\n",
    "    파라미터\n",
    "      puzzle: 퍼즐\n",
    "      n: 퍼즐 내에서 찾으려는 숫자 혹은 빈공간('') 값\n",
    "    리턴\n",
    "      퍼즐에서 해당 숫자나 빈공간을 찾았다면 해당 인덱스를 반환\n",
    "      찾지 못했다면 None, None 반환\n",
    "    '''\n",
    "    for i in range(len(puzzle)):\n",
    "        try:\n",
    "            index = puzzle[i].index(n)\n",
    "            return i, index\n",
    "        except:\n",
    "            continue\n",
    "    return None, None"
   ]
  },
  {
   "cell_type": "code",
   "execution_count": 8,
   "metadata": {},
   "outputs": [],
   "source": [
    "def shuffle_puzzle(puzzle, shuffle_count):\n",
    "    '''\n",
    "    파라미터\n",
    "     puzzle: 퍼즐\n",
    "     shuffle_count: 섞을 횟수\n",
    "    리턴\n",
    "     None\n",
    "    '''\n",
    "    \n",
    "    # 각각 섞을 때마다 빈공간을 기준으로 상하좌우의 방향으로 섞기 위해\n",
    "    # 방향 리스트 생성\n",
    "    # 순서대로 상 우 하 좌 \n",
    "    dxs = [1, 0, -1,  0]\n",
    "    dys = [0, 1,  0, -1]\n",
    "\n",
    "    cnt = 0\n",
    "    while cnt <= shuffle_count:\n",
    "        rnd = random.randint(0, 3)\n",
    "        dx = dxs[rnd]\n",
    "        dy = dys[rnd]\n",
    "\n",
    "        # 빈공간의 index 얻기\n",
    "        i, j = get_index(puzzle, '')            \n",
    "        ni = i + dx\n",
    "        nj = j + dy\n",
    "\n",
    "        # 새로 얻은 인덱스 확인(퍼즐 범위내에 포함되는지) 하여 숫자 이동\n",
    "        if 0 <= ni < len(puzzle) and 0 <= nj < len(puzzle[0]):\n",
    "            puzzle[ni][nj], puzzle[i][j] = puzzle[i][j], puzzle[ni][nj]\n",
    "        \n",
    "        cnt += 1"
   ]
  },
  {
   "cell_type": "code",
   "execution_count": 9,
   "metadata": {},
   "outputs": [
    {
     "name": "stdout",
     "output_type": "stream",
     "text": [
      "  1  2  3  4\n",
      "  5  6  7   \n",
      "  9 10 11  8\n",
      " 13 14 15 12\n"
     ]
    }
   ],
   "source": [
    "shuffle_puzzle(puzzle, 10)\n",
    "show_puzzle(puzzle)"
   ]
  },
  {
   "cell_type": "markdown",
   "metadata": {},
   "source": [
    "#### 퍼즐이 완성되었는지 확인하기\n",
    " - 퍼즐이 완성된 형태인지 확인\n",
    " - puzzle 퍼즐로 활용할 리스트, completed 완성된 형태의 퍼즐 리스트 \n",
    " - 완성되었다면 True, 아니라면 False 반환"
   ]
  },
  {
   "cell_type": "code",
   "execution_count": 10,
   "metadata": {},
   "outputs": [],
   "source": [
    "def is_puzzle_completed(puzzle, completed):\n",
    "    return puzzle == completed"
   ]
  },
  {
   "cell_type": "markdown",
   "metadata": {},
   "source": [
    "#### 퍼즐 이동하기\n",
    " - 퍼즐 내의 숫자를 이동\n",
    " - 이때 이동이 가능한 경우는 해당 숫자가 빈공간 상하좌우에 위치한 경우에만 가능"
   ]
  },
  {
   "cell_type": "code",
   "execution_count": 11,
   "metadata": {},
   "outputs": [],
   "source": [
    "def move_by_number(puzzle, n):\n",
    "    # 숫자가 위치한 index\n",
    "    i, j = get_index(puzzle, n)\n",
    "    \n",
    "    # index를 이용하여 숫자 이동\n",
    "    move_by_index(puzzle, i, j)"
   ]
  },
  {
   "cell_type": "code",
   "execution_count": 12,
   "metadata": {},
   "outputs": [],
   "source": [
    "def move_by_index(puzzle, i, j):\n",
    "    # 좌우위아래 한방향중 하나가 '' 값이라면 이동 가능\n",
    "    for dx, dy in ((1, 0), (0, 1), (-1, 0), (0, -1)):\n",
    "        new_i = i + dx\n",
    "        new_j = j + dy\n",
    "\n",
    "        # boundary 체크(갈 수 없는 곳이면 패스)\n",
    "        if not (0 <= new_i < len(puzzle) and 0 <= new_j < len(puzzle[0])):\n",
    "            continue\n",
    "\n",
    "        # 옆에 빈 공간인 경우에는 퍼즐의 위치를 빈공간과 바꿈(swap)\n",
    "        if puzzle[new_i][new_j] == '':\n",
    "            puzzle[i][j], puzzle[new_i][new_j] = puzzle[new_i][new_j], puzzle[i][j]\n",
    "            return "
   ]
  },
  {
   "cell_type": "markdown",
   "metadata": {},
   "source": [
    "#### 사용자 프롬프트 입력\n",
    " - 게임의 진행을 위해 동적으로 키보드 입력을 받을 필요가 있음\n",
    "   - 퍼즐의 크기, 이동할 수 지정 \n",
    " - 이를 위해 input 함수 사용\n",
    "   - 원하는 값 입력후, Enter"
   ]
  },
  {
   "cell_type": "code",
   "execution_count": 14,
   "metadata": {},
   "outputs": [
    {
     "name": "stdout",
     "output_type": "stream",
     "text": [
      "입력하세요4\n",
      "4\n"
     ]
    }
   ],
   "source": [
    "value = input('입력하세요')\n",
    "print(value)"
   ]
  },
  {
   "cell_type": "markdown",
   "metadata": {},
   "source": [
    "* 입력받은 값을 숫자형태로 변경"
   ]
  },
  {
   "cell_type": "code",
   "execution_count": 15,
   "metadata": {},
   "outputs": [
    {
     "name": "stdout",
     "output_type": "stream",
     "text": [
      "숫자를 입력하세요5\n",
      "5\n"
     ]
    }
   ],
   "source": [
    "value = int(input('숫자를 입력하세요'))\n",
    "print(value)"
   ]
  },
  {
   "cell_type": "markdown",
   "metadata": {},
   "source": [
    "#### 퍼즐, 퍼즐 완성본 생성 및 셔플링"
   ]
  },
  {
   "cell_type": "markdown",
   "metadata": {},
   "source": [
    "* 퍼즐 사이즈 입력"
   ]
  },
  {
   "cell_type": "code",
   "execution_count": 16,
   "metadata": {},
   "outputs": [
    {
     "name": "stdout",
     "output_type": "stream",
     "text": [
      "-> 퍼즐 사이즈를 입력하세요: 5\n",
      "퍼즐 사이즈:  5\n"
     ]
    }
   ],
   "source": [
    "size = int(input('-> 퍼즐 사이즈를 입력하세요: '))\n",
    "print('퍼즐 사이즈: ', size)"
   ]
  },
  {
   "cell_type": "markdown",
   "metadata": {},
   "source": [
    "* 퍼즐 생성"
   ]
  },
  {
   "cell_type": "code",
   "execution_count": 17,
   "metadata": {},
   "outputs": [],
   "source": [
    "puzzle = initiate_puzzle(size)"
   ]
  },
  {
   "cell_type": "markdown",
   "metadata": {},
   "source": [
    "* 퍼즐 완성본 생성\n",
    " - 기존 퍼즐을 복사하여 생성\n",
    " - 아래와 같이 deep copy본으로 생성\n",
    "   - 그렇지 않으면, 항상 puzzle과 complete가 동일한 객체가 됨"
   ]
  },
  {
   "cell_type": "code",
   "execution_count": 18,
   "metadata": {},
   "outputs": [],
   "source": [
    "complete = [row[:] for row in puzzle]"
   ]
  },
  {
   "cell_type": "markdown",
   "metadata": {},
   "source": [
    "* copy 모듈을 이용해서도 가능"
   ]
  },
  {
   "cell_type": "code",
   "execution_count": 19,
   "metadata": {},
   "outputs": [],
   "source": [
    "import copy\n",
    "complete = copy.deepcopy(puzzle)"
   ]
  },
  {
   "cell_type": "code",
   "execution_count": 20,
   "metadata": {},
   "outputs": [
    {
     "name": "stdout",
     "output_type": "stream",
     "text": [
      "  1  2  3  4  5\n",
      "  6  7  8  9 10\n",
      " 11 12 13 14 15\n",
      " 16 17 18 19 20\n",
      " 21 22 23 24   \n"
     ]
    }
   ],
   "source": [
    "show_puzzle(complete)"
   ]
  },
  {
   "cell_type": "code",
   "execution_count": 21,
   "metadata": {},
   "outputs": [
    {
     "name": "stdout",
     "output_type": "stream",
     "text": [
      "  1  2  3  4  5\n",
      "  6  7  8  9 10\n",
      " 11 12 13 14 15\n",
      " 16 17 18 19 20\n",
      " 21 22 23 24   \n"
     ]
    }
   ],
   "source": [
    "show_puzzle(puzzle)"
   ]
  },
  {
   "cell_type": "markdown",
   "metadata": {},
   "source": [
    "* 퍼즐 섞기"
   ]
  },
  {
   "cell_type": "code",
   "execution_count": 22,
   "metadata": {},
   "outputs": [],
   "source": [
    "shuffle_puzzle(puzzle, 300)"
   ]
  },
  {
   "cell_type": "code",
   "execution_count": 23,
   "metadata": {},
   "outputs": [
    {
     "name": "stdout",
     "output_type": "stream",
     "text": [
      "  6  1 10  9  3\n",
      "  7 11  2 20  4\n",
      " 17 22 16 14  5\n",
      "     8 18 12 15\n",
      " 13 21 23 19 24\n"
     ]
    }
   ],
   "source": [
    "show_puzzle(puzzle)"
   ]
  },
  {
   "cell_type": "markdown",
   "metadata": {},
   "source": [
    "#### 게임 루프 \n",
    " - 퍼즐이 완성되었나 확인\n",
    "   - 완성되었다면 종료\n",
    "   - 완성되지 않았다면 사용자 입력 대기 및 퍼즐 출력 "
   ]
  },
  {
   "cell_type": "code",
   "execution_count": 24,
   "metadata": {},
   "outputs": [],
   "source": [
    "# output을 clear하기 위해 사용\n",
    "from IPython.display import clear_output"
   ]
  },
  {
   "cell_type": "code",
   "execution_count": null,
   "metadata": {},
   "outputs": [
    {
     "name": "stdout",
     "output_type": "stream",
     "text": [
      "  6  1 10  9  3\n",
      "  7 11  2 20  4\n",
      " 17 22 16 14  5\n",
      "  8    18 12 15\n",
      " 13 21 23 19 24\n"
     ]
    }
   ],
   "source": [
    "show_puzzle(puzzle)\n",
    "\n",
    "while not is_puzzle_completed(puzzle, complete):\n",
    "    # 숫자를 입력하지 않은 경우에 대한 예외 처리\n",
    "    try:\n",
    "        num = int(input(' -> 움직일 숫자를 입력하세요 : '))\n",
    "    except:\n",
    "        print('숫자가 아닙니다.')\n",
    "        continue\n",
    "\n",
    "    # 움직일 수 선택하기\n",
    "    move_by_number(puzzle, num)\n",
    "\n",
    "    # 화면 clear\n",
    "    clear_output()\n",
    "\n",
    "    # 움직인 이후 퍼즐 상태 보기\n",
    "    show_puzzle(puzzle)\n",
    "\n",
    "# 루프의 종료는 곧 퍼즐의 완성을 의미!\n",
    "print('\\n퍼즐 완성!')"
   ]
  }
 ],
 "metadata": {
  "kernelspec": {
   "display_name": "Python 3",
   "language": "python",
   "name": "python3"
  },
  "language_info": {
   "codemirror_mode": {
    "name": "ipython",
    "version": 3
   },
   "file_extension": ".py",
   "mimetype": "text/x-python",
   "name": "python",
   "nbconvert_exporter": "python",
   "pygments_lexer": "ipython3",
   "version": "3.7.6"
  }
 },
 "nbformat": 4,
 "nbformat_minor": 2
}
