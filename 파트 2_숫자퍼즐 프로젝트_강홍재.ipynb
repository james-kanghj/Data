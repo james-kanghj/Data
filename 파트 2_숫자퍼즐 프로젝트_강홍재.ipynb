{
 "cells": [
  {
   "cell_type": "markdown",
   "metadata": {},
   "source": [
    "## Byte degree 미니 프로젝트\n",
    " - 숫자 퍼즐 게임 완성하기\n",
    " - 아래와 같이 숫자 퍼즐을 만들고 숫자를 이동시켜 순서대로 맞추는 게임\n",
    " - ![퍼즐이미지](https://i.stack.imgur.com/0B14h.png)\n",
    " - [이미지 출처](https://math.stackexchange.com/questions/635188/what-is-the-parity-of-permutation-in-the-15-puzzle)"
   ]
  },
  {
   "cell_type": "code",
   "execution_count": null,
   "metadata": {},
   "outputs": [],
   "source": [
    "import random"
   ]
  },
  {
   "cell_type": "markdown",
   "metadata": {},
   "source": [
    "### 게임 로직 구현하기\n",
    " 1. 퍼즐 생성하기\n",
    " 2. 퍼즐 랜덤하게 섞기\n",
    " 3. 퍼즐 출력\n",
    " 4. 사용자 입력(움직일 숫자 입력 받기)\n",
    " 5. 퍼즐 완성 확인하기\n",
    "   - 완성? 완료 메시지와 함께 종료\n",
    "   - 미완성? 3번으로 이동"
   ]
  },
  {
   "cell_type": "markdown",
   "metadata": {},
   "source": [
    "#### 퍼즐 생성하기\n",
    " - 2차원 리스트 형태로 생성\n",
    " - 퍼즐의 크기(size)를 파라미터로 받아, 동적으로 size*size의 리스트로 생성\n",
    " - 퍼즐이 생성되면 1부터 차례대로 행방향으로 숫자를 나열\n",
    "   - 사이즈가 3인 경우의 생성 예\n",
    "   -  [[1, 2, 3],\n",
    "      [4, 5, 6],\n",
    "      [7, 8, 9]]\n",
    " - 퍼즐의 가장 마지막 아이템(마지막 행의 마지막 열 아이템)은 '' 빈문자열로 처리\n",
    "   - 이유는? 숫자퍼즐의 목표는 빈공간을 이용해 각 이동하고자 하는 숫자를 빈공간으로 움직여 숫자들을 순서대로 다시 맞추는 것이 목적이므로, 빈공간을 표현하기 위한 방법으로 빈문자열을 사용"
   ]
  },
  {
   "cell_type": "markdown",
   "metadata": {},
   "source": [
    "* pure python 버젼"
   ]
  },
  {
   "cell_type": "code",
   "execution_count": null,
   "metadata": {},
   "outputs": [],
   "source": [
    "def initiate_puzzle(size):\n",
    "    '''\n",
    "    파라미터\n",
    "     size: 퍼즐의 크기\n",
    "    리턴\n",
    "     생성된 퍼즐 리스트\n",
    "    '''\n",
    "    print(\"======= pure python =======\")\n",
    "    # 퍼즐을 리스트의 리스트로 표현하려고 합니다.\n",
    "    # 즉 3x3 퍼즐이라면 아래와 같은 리스트의 리스트로 표현이 되게 하려고 합니다\n",
    "    # [[1, 2, 3], [4, 5, 6], [7, 8, '']]\n",
    "    # 마지막 아이템을 ''로 바꾼 이유는 퍼즐의 빈 공간을 표현하기 위해서이구요.\n",
    "    puzzle = [] # 전체 퍼즐을 담을 리스트\n",
    "    for i in range(size):\n",
    "        row = [] \n",
    "        for j in range(size):\n",
    "            row.append(size * i + j + 1)\n",
    "        puzzle.append(row)\n",
    "\n",
    "    # 일단 퍼즐을 생성 한 뒤, 마지막 리스트의 마지막 아이템을 ''로 변경합니다.\n",
    "    puzzle[-1][-1] = ''\n",
    "    return puzzle"
   ]
  },
  {
   "cell_type": "markdown",
   "metadata": {},
   "source": [
    "* numpy 버젼\n",
    " - numpy를 추가한 이유는 더 간결하게 작성하는 것을 보여주기 위해서 입니다. 심화 과정이니 numpy를 모르시는 분은 위의 pure python버젼으로 확인하시면 됩니다."
   ]
  },
  {
   "cell_type": "code",
   "execution_count": 3,
   "metadata": {},
   "outputs": [],
   "source": [
    "import numpy as np\n",
    "def initiate_puzzle(size):\n",
    "    '''\n",
    "    파라미터\n",
    "     size: 퍼즐의 크기\n",
    "    리턴\n",
    "     생성된 퍼즐 리스트\n",
    "    '''\n",
    "    print(\"======= using numpy =======\")\n",
    "    puzzle = np.arange(1, (size*size)+1).reshape(size, size)\n",
    "    puzzle = puzzle.tolist() \n",
    "    puzzle[-1][-1] = ''\n",
    "    return puzzle"
   ]
  },
  {
   "cell_type": "code",
   "execution_count": 4,
   "metadata": {},
   "outputs": [
    {
     "name": "stdout",
     "output_type": "stream",
     "text": [
      "======= using numpy =======\n",
      "[[1, 2, 3, 4], [5, 6, 7, 8], [9, 10, 11, 12], [13, 14, 15, '']]\n"
     ]
    }
   ],
   "source": [
    "puzzle = initiate_puzzle(4)\n",
    "print(puzzle)"
   ]
  },
  {
   "cell_type": "markdown",
   "metadata": {},
   "source": [
    "#### 퍼즐 출력하기\n",
    " - 생성된 퍼즐(puzzle)을 파라미터로 받아 화면에 출력\n",
    " - 이때, 퍼즐은 2차원 형태이므로 2중 loop을 이용"
   ]
  },
  {
   "cell_type": "code",
   "execution_count": 5,
   "metadata": {},
   "outputs": [],
   "source": [
    "def show_puzzle(puzzle):\n",
    "    '''\n",
    "    파라미터\n",
    "     puzzle: 퍼즐 \n",
    "    리턴\n",
    "     None\n",
    "    '''\n",
    "    # 3*3 퍼즐을 예를 들면 \n",
    "    # [[1, 2, 3],   -> 1열\n",
    "    #  [4, 5, 6],   -> 2열\n",
    "    #  [7, 8, 9]]   -> 3열\n",
    "    # 와 같은 형태로 출력하게 하는 것입니다.\n",
    "    # for문 2개를 중첩하여 출력을 하면 되는데\n",
    "    # 외부의 for는 각 열에 접근하기 위해서이고\n",
    "    # 내부의 for는 열의 각각 아이템에 접근하기 위해서 입니다.\n",
    "    for r in puzzle:\n",
    "        for c in r:\n",
    "            print(c, end = \"\\t\")\n",
    "        print(\"\\n\")"
   ]
  },
  {
   "cell_type": "code",
   "execution_count": 6,
   "metadata": {},
   "outputs": [
    {
     "name": "stdout",
     "output_type": "stream",
     "text": [
      "1\t2\t3\t4\t\n",
      "\n",
      "5\t6\t7\t8\t\n",
      "\n",
      "9\t10\t11\t12\t\n",
      "\n",
      "13\t14\t15\t\t\n",
      "\n"
     ]
    }
   ],
   "source": [
    "show_puzzle(puzzle)"
   ]
  },
  {
   "cell_type": "markdown",
   "metadata": {},
   "source": [
    "#### 퍼즐 섞기(shuffling)\n",
    " - 생성할때부터 랜덤하게 숫자를 배열하지 않고, 완성된 상태에서 퍼즐을 섞어야 함\n",
    "   - 이유? 랜덤하게 배열하는 경우, 퍼즐이 완성되지 못하는 경우의 수가 수학적으로 존재하기 때문\n",
    "   - 퍼즐을 완성시킬 수 없는 예\n",
    "   - [[1, 2, 3, 4], [5, 6, 7, 8], [9, 10, 11, 12], [13, 15, 14, '']]\n",
    "   - [출처: 네이버 블로그](https://post.naver.com/viewer/postView.nhn?volumeNo=17980703&memberNo=16868720) "
   ]
  },
  {
   "cell_type": "code",
   "execution_count": 7,
   "metadata": {},
   "outputs": [],
   "source": [
    "def get_index(puzzle, n):\n",
    "    '''\n",
    "    파라미터\n",
    "      puzzle: 퍼즐\n",
    "      n: 퍼즐 내에서 찾으려는 숫자 혹은 빈공간('') 값\n",
    "    리턴\n",
    "      퍼즐에서 해당 숫자나 빈공간을 찾았다면 해당 인덱스를 반환\n",
    "      찾지 못했다면 None, None 반환\n",
    "    '''\n",
    "    for i in range(len(puzzle)):\n",
    "        try:\n",
    "            index = puzzle[i].index(n) # 리스트의 내장 함수를 활용하여 주어진 숫자 n의 인덱스 찾기\n",
    "            return i, index\n",
    "        except ValueError:\n",
    "            continue\n",
    "            return None, None"
   ]
  },
  {
   "cell_type": "code",
   "execution_count": 8,
   "metadata": {},
   "outputs": [
    {
     "data": {
      "text/plain": [
       "(3, 3)"
      ]
     },
     "execution_count": 8,
     "metadata": {},
     "output_type": "execute_result"
    }
   ],
   "source": [
    "get_index(puzzle, '')"
   ]
  },
  {
   "cell_type": "code",
   "execution_count": 30,
   "metadata": {},
   "outputs": [],
   "source": [
    "def shuffle_puzzle(puzzle, shuffle_count):\n",
    "    '''\n",
    "    파라미터\n",
    "     puzzle: 퍼즐\n",
    "     shuffle_count: 섞을 횟수\n",
    "    리턴\n",
    "     None\n",
    "    '''\n",
    "    \n",
    "    # 각각 섞을 때마다 빈공간을 기준으로 상하좌우의 방향으로 섞기 위해\n",
    "    # 방향 리스트 생성\n",
    "    # 순서대로 상 우 하 좌 \n",
    "    dxs = [1, 0, -1,  0]\n",
    "    dys = [0, 1,  0, -1]\n",
    "\n",
    "    cnt = 0 # 섞을 횟수를 카운팅 할 변수\n",
    "    while cnt <= shuffle_count: # shuffle_count에 도달할 때까지 퍼즐을 섞으려고 합니다.\n",
    "        \n",
    "        # 퍼즐을 섞으려면 빈 공간을 기준으로 좌 우 상 하 \n",
    "        # 중 한 곳으로 움직여 섞을 수 있습니다.\n",
    "        # 이것을 랜덤하게 하기 위해서 0부터 3까지 임의의 인덱스 값을 찾는데요\n",
    "        # 예를 들어서 랜덤한 값으로 1이 선택되었을 경우 \n",
    "        # 아래의 코드에서 dxs, dys에 1번째 값을 선택하게 되는데 \n",
    "        # 각각 dx, dy로 (0, 1)을 선택하게 됩니다.\n",
    "        # 이 것이 의미하는 것은 새로 바뀌게 될 인덱스를 의미하게 되는데요\n",
    "        # i 인덱스(각 row의 인덱스를 나타냄)는 0이 더해지고(즉 변화가 없고)\n",
    "        # j 인덱스(각 row내에서의 인덱스를 나타냄)는 1이 더해지기 때문에\n",
    "        # 오른쪽으로 움직이게 된다는 것을 알 수 있습니다.\n",
    "        rnd = random.randint(0, 3) \n",
    "        dx = dxs[rnd]\n",
    "        dy = dys[rnd]\n",
    "\n",
    "        # 빈 공간의 index를 계산합니다.\n",
    "        i, j = get_index(puzzle, '')\n",
    "        \n",
    "        # 각각 dx, dy를 더하여 새로 업데이트 될 인덱스를 계산합니다.\n",
    "        ni = i + dx\n",
    "        nj = j + dy\n",
    "\n",
    "        # 새로 얻은 인덱스가 유효한 범위인지 확인합니다.\n",
    "        # 예를 들어 이미 가장 오른쪽에 있던 빈 공간을 한 번 더 오른쪽으로 옮기는 것은 \n",
    "        # 불가능하기 때문에, 이렇게 아래와 같이 새 인덱스가 유효한지 체크 해주는 것입니다.\n",
    "        # 유효하다면, 기존의 빈 공간의 값과 새로운 인덱스의 값을 교환하면 됩니다.\n",
    "        if 0 <= ni < len(puzzle) and 0 <= nj < len(puzzle[0]):\n",
    "            puzzle[ni][nj], puzzle[i][j] = puzzle[i][j], puzzle[ni][nj]\n",
    "        \n",
    "        cnt += 1"
   ]
  },
  {
   "cell_type": "code",
   "execution_count": 31,
   "metadata": {},
   "outputs": [
    {
     "name": "stdout",
     "output_type": "stream",
     "text": [
      "1\t10\t4\t2\t\n",
      "\n",
      "7\t12\t9\t5\t\n",
      "\n",
      "11\t14\t\t8\t\n",
      "\n",
      "6\t13\t3\t15\t\n",
      "\n"
     ]
    }
   ],
   "source": [
    "shuffle_puzzle(puzzle, 10)\n",
    "show_puzzle(puzzle)"
   ]
  },
  {
   "cell_type": "markdown",
   "metadata": {},
   "source": [
    "#### 퍼즐이 완성되었는지 확인하기\n",
    " - 퍼즐이 완성된 형태인지 확인\n",
    " - puzzle 퍼즐로 활용할 리스트, completed 완성된 형태의 퍼즐 리스트 \n",
    " - 완성되었다면 True, 아니라면 False 반환"
   ]
  },
  {
   "cell_type": "code",
   "execution_count": 11,
   "metadata": {},
   "outputs": [],
   "source": [
    "# puzzle은 현재 풀고자 하는 퍼즐을 담은 리스트\n",
    "# completed는 미리 생성한 완성된 퍼즐을 담은 리스트\n",
    "def is_puzzle_completed(puzzle, completed):\n",
    "    # 두개의 리스트가 완전히 동일한 지 비교하면 됩니다.\n",
    "    if np.array_equal(puzzle, complted):\n",
    "        return True\n",
    "    else:\n",
    "        return False"
   ]
  },
  {
   "cell_type": "markdown",
   "metadata": {},
   "source": [
    "#### 퍼즐 이동하기\n",
    " - 퍼즐 내의 숫자를 이동\n",
    " - 이때 이동이 가능한 경우는 해당 숫자가 빈공간 상하좌우에 위치한 경우에만 가능"
   ]
  },
  {
   "cell_type": "code",
   "execution_count": 32,
   "metadata": {},
   "outputs": [],
   "source": [
    "# puzzle 내에서 숫자 n을 움직이는 코드\n",
    "# n 옆에 빈 공간이 있으면 n과 빈 공간의 위치를 바꾼다.\n",
    "# 그렇게 하기 위해서는 n의 인덱스를 찾아야 하고(get_index) \n",
    "# 그 이후, move_by_index 함수를 이용해서 n과 빈 공간을 바꾼다.\n",
    "def move_by_number(puzzle, n):\n",
    "    # 숫자가 위치한 index\n",
    "    i, j = get_index(puzzle, n)\n",
    "    \n",
    "    # index를 이용하여 숫자 이동\n",
    "    move_by_index(puzzle, i, j)"
   ]
  },
  {
   "cell_type": "code",
   "execution_count": 33,
   "metadata": {},
   "outputs": [],
   "source": [
    "# shuffle_puzzle 함수의 코드를 참고하면 됩니다.\n",
    "\n",
    "# 퍼즐에서 현재 i, j 인덱스에 있는 아이템을 옮기는 함수입니다.\n",
    "def move_by_index(puzzle, i, j):\n",
    "    # 좌우위아래 한 방향 중 하나가 '' 값이라면 이동 가능\n",
    "    for dx, dy in ((1, 0), (0, 1), (-1, 0), (0, -1)):\n",
    "        new_i = i + dx\n",
    "        new_j = j + dy\n",
    "        # print(i, j, new_i, new_j)\n",
    "        \n",
    "        # boundary 체크(갈 수 없는 곳이면 패스)\n",
    "        if not puzzle[new_i][new_j] != '':\n",
    "            continue\n",
    "\n",
    "        # 옆에 빈 공간인 경우에는 퍼즐의 위치를 빈 공간과 바꿈(swap)\n",
    "        if puzzle[new_i][new_j] == '':\n",
    "            puzzle[new_i][new_j], puzzle[i][j] = puzzle[i][j], puzzle[new_i][new_j]\n",
    "            return"
   ]
  },
  {
   "cell_type": "markdown",
   "metadata": {},
   "source": [
    "#### 사용자 프롬프트 입력\n",
    " - 게임의 진행을 위해 동적으로 키보드 입력을 받을 필요가 있음\n",
    "   - 퍼즐의 크기, 이동할 수 지정 \n",
    " - 이를 위해 input 함수 사용\n",
    "   - 원하는 값 입력후, Enter"
   ]
  },
  {
   "cell_type": "code",
   "execution_count": null,
   "metadata": {
    "scrolled": true
   },
   "outputs": [],
   "source": [
    "value = input('입력하세요')\n",
    "print(value)"
   ]
  },
  {
   "cell_type": "markdown",
   "metadata": {},
   "source": [
    "* 입력받은 값을 숫자형태로 변경"
   ]
  },
  {
   "cell_type": "code",
   "execution_count": null,
   "metadata": {},
   "outputs": [],
   "source": [
    "value = int(input('숫자를 입력하세요'))\n",
    "print(value)"
   ]
  },
  {
   "cell_type": "markdown",
   "metadata": {},
   "source": [
    "#### 퍼즐, 퍼즐 완성본 생성 및 셔플링"
   ]
  },
  {
   "cell_type": "markdown",
   "metadata": {},
   "source": [
    "* 퍼즐 사이즈 입력"
   ]
  },
  {
   "cell_type": "code",
   "execution_count": 18,
   "metadata": {},
   "outputs": [
    {
     "name": "stdout",
     "output_type": "stream",
     "text": [
      "-> 퍼즐 사이즈를 입력하세요: 4\n",
      "퍼즐 사이즈:  4\n"
     ]
    }
   ],
   "source": [
    "size = int(input('-> 퍼즐 사이즈를 입력하세요: '))\n",
    "print('퍼즐 사이즈: ', size)"
   ]
  },
  {
   "cell_type": "markdown",
   "metadata": {},
   "source": [
    "* 퍼즐 생성"
   ]
  },
  {
   "cell_type": "code",
   "execution_count": 19,
   "metadata": {},
   "outputs": [
    {
     "name": "stdout",
     "output_type": "stream",
     "text": [
      "======= using numpy =======\n"
     ]
    }
   ],
   "source": [
    "puzzle = initiate_puzzle(size)"
   ]
  },
  {
   "cell_type": "markdown",
   "metadata": {},
   "source": [
    "* 퍼즐 완성본 생성\n",
    " - 기존 퍼즐을 복사하여 생성\n",
    " - 아래와 같이 deep copy본으로 생성\n",
    "   - 그렇지 않으면, 항상 puzzle과 complete가 동일한 객체가 됨"
   ]
  },
  {
   "cell_type": "code",
   "execution_count": 20,
   "metadata": {},
   "outputs": [],
   "source": [
    "# 퍼즐의 완성본을 미리 복사해둡니다.\n",
    "complete = [row[:] for row in puzzle]"
   ]
  },
  {
   "cell_type": "code",
   "execution_count": 21,
   "metadata": {},
   "outputs": [
    {
     "name": "stdout",
     "output_type": "stream",
     "text": [
      "1\t2\t3\t4\t\n",
      "\n",
      "5\t6\t7\t8\t\n",
      "\n",
      "9\t10\t11\t12\t\n",
      "\n",
      "13\t14\t15\t\t\n",
      "\n"
     ]
    }
   ],
   "source": [
    "show_puzzle(puzzle)\n",
    "# show_puzzle(complete)"
   ]
  },
  {
   "cell_type": "markdown",
   "metadata": {},
   "source": [
    "* 퍼즐 섞기"
   ]
  },
  {
   "cell_type": "code",
   "execution_count": 22,
   "metadata": {},
   "outputs": [],
   "source": [
    "shuffle_puzzle(puzzle, 300)"
   ]
  },
  {
   "cell_type": "code",
   "execution_count": 23,
   "metadata": {},
   "outputs": [
    {
     "name": "stdout",
     "output_type": "stream",
     "text": [
      "1\t10\t4\t2\t\n",
      "\n",
      "7\t9\t\t5\t\n",
      "\n",
      "11\t12\t14\t8\t\n",
      "\n",
      "6\t13\t3\t15\t\n",
      "\n"
     ]
    }
   ],
   "source": [
    "show_puzzle(puzzle)"
   ]
  },
  {
   "cell_type": "markdown",
   "metadata": {},
   "source": [
    "#### 게임 루프 \n",
    " - 퍼즐이 완성되었나 확인\n",
    "   - 완성되었다면 종료\n",
    "   - 완성되지 않았다면 사용자 입력 대기 및 퍼즐 출력 "
   ]
  },
  {
   "cell_type": "code",
   "execution_count": 24,
   "metadata": {},
   "outputs": [],
   "source": [
    "# output을 clear하기 위해 사용\n",
    "from IPython.display import clear_output"
   ]
  },
  {
   "cell_type": "code",
   "execution_count": null,
   "metadata": {},
   "outputs": [
    {
     "name": "stdout",
     "output_type": "stream",
     "text": [
      "1\t10\t4\t2\t\n",
      "\n",
      "7\t12\t9\t5\t\n",
      "\n",
      "11\t14\t\t8\t\n",
      "\n",
      "6\t13\t3\t15\t\n",
      "\n"
     ]
    }
   ],
   "source": [
    "show_puzzle(puzzle)\n",
    "\n",
    "# 퍼즐이 완성되지 않았다면 계속 while 구문을 수행.\n",
    "while not size == '':\n",
    "    # 숫자를 입력하지 않은 경우에 대한 예외 처리\n",
    "    try:\n",
    "        num = int(input(' -> 움직일 숫자를 입력하세요 : '))\n",
    "    except:\n",
    "        print('숫자가 아닙니다.')\n",
    "        continue\n",
    "\n",
    "    # 사용자가 선택한 num을 움직임\n",
    "    # 앞서서 구현한 함수중 하나를 호출\n",
    "\n",
    "    move_by_number(puzzle, num)\n",
    "    \n",
    "    # 화면 clear\n",
    "    clear_output()\n",
    "\n",
    "    # 움직인 이후 퍼즐 상태 보기\n",
    "    show_puzzle(puzzle)\n",
    "\n",
    "# 루프의 종료는 곧 퍼즐의 완성을 의미!\n",
    "print('\\n퍼즐 완성!')"
   ]
  },
  {
   "cell_type": "code",
   "execution_count": null,
   "metadata": {},
   "outputs": [],
   "source": []
  }
 ],
 "metadata": {
  "kernelspec": {
   "display_name": "Python 3",
   "language": "python",
   "name": "python3"
  },
  "language_info": {
   "codemirror_mode": {
    "name": "ipython",
    "version": 3
   },
   "file_extension": ".py",
   "mimetype": "text/x-python",
   "name": "python",
   "nbconvert_exporter": "python",
   "pygments_lexer": "ipython3",
   "version": "3.7.6"
  }
 },
 "nbformat": 4,
 "nbformat_minor": 2
}
